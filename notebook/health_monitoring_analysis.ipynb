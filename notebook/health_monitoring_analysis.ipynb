{
 "cells": [
  {
   "cell_type": "code",
   "execution_count": 1,
   "metadata": {},
   "outputs": [],
   "source": [
    "import pandas as pd "
   ]
  },
  {
   "cell_type": "code",
   "execution_count": 3,
   "metadata": {},
   "outputs": [],
   "source": [
    "file_path = '../data/healthmonitoring.csv'\n",
    "\n",
    "health_data = pd.read_csv(file_path)"
   ]
  },
  {
   "cell_type": "code",
   "execution_count": 10,
   "metadata": {},
   "outputs": [
    {
     "name": "stdout",
     "output_type": "stream",
     "text": [
      "   PatientID  Age  Gender  HeartRate BloodPressure  RespiratoryRate  \\\n",
      "0          1   69    Male  60.993428        130/85               15   \n",
      "1          2   32    Male  98.723471        120/80               23   \n",
      "2          3   78  Female  82.295377        130/85               13   \n",
      "3          4   38  Female  80.000000        111/78               19   \n",
      "4          5   41    Male  87.531693        120/80               14   \n",
      "\n",
      "   BodyTemperature ActivityLevel  OxygenSaturation SleepQuality StressLevel  \\\n",
      "0        98.885236       resting              95.0    excellent         low   \n",
      "1        98.281883       walking              97.0         good        high   \n",
      "2        98.820286       resting              98.0         fair        high   \n",
      "3        98.412594       running              98.0         poor    moderate   \n",
      "4        99.369871       resting              98.0         good         low   \n",
      "\n",
      "                    Timestamp  \n",
      "0  2024-04-26 17:28:55.286711  \n",
      "1  2024-04-26 17:23:55.286722  \n",
      "2  2024-04-26 17:18:55.286726  \n",
      "3  2024-04-26 17:13:55.286728  \n",
      "4  2024-04-26 17:08:55.286731  \n"
     ]
    }
   ],
   "source": [
    "print(health_data.head())"
   ]
  },
  {
   "cell_type": "markdown",
   "metadata": {},
   "source": [
    "Check whether data contains has any null values or not"
   ]
  },
  {
   "cell_type": "code",
   "execution_count": 13,
   "metadata": {},
   "outputs": [
    {
     "data": {
      "text/plain": [
       "PatientID             0\n",
       "Age                   0\n",
       "Gender                0\n",
       "HeartRate             0\n",
       "BloodPressure         0\n",
       "RespiratoryRate       0\n",
       "BodyTemperature      18\n",
       "ActivityLevel         0\n",
       "OxygenSaturation    163\n",
       "SleepQuality          0\n",
       "StressLevel           0\n",
       "Timestamp             0\n",
       "dtype: int64"
      ]
     },
     "execution_count": 13,
     "metadata": {},
     "output_type": "execute_result"
    }
   ],
   "source": [
    "health_data.isnull().sum()"
   ]
  },
  {
   "cell_type": "code",
   "execution_count": 14,
   "metadata": {},
   "outputs": [],
   "source": [
    "# Calculate medians\n",
    "median_body_temperature = health_data['BodyTemperature'].median()\n",
    "median_oxygen_saturation = health_data['OxygenSaturation'].median()"
   ]
  },
  {
   "cell_type": "code",
   "execution_count": 16,
   "metadata": {},
   "outputs": [
    {
     "name": "stderr",
     "output_type": "stream",
     "text": [
      "C:\\Users\\manua\\AppData\\Local\\Temp\\ipykernel_24488\\728516588.py:2: FutureWarning: A value is trying to be set on a copy of a DataFrame or Series through chained assignment using an inplace method.\n",
      "The behavior will change in pandas 3.0. This inplace method will never work because the intermediate object on which we are setting values always behaves as a copy.\n",
      "\n",
      "For example, when doing 'df[col].method(value, inplace=True)', try using 'df.method({col: value}, inplace=True)' or df[col] = df[col].method(value) instead, to perform the operation inplace on the original object.\n",
      "\n",
      "\n",
      "  health_data['BodyTemperature'].fillna(median_body_temperature, inplace=True)\n",
      "C:\\Users\\manua\\AppData\\Local\\Temp\\ipykernel_24488\\728516588.py:3: FutureWarning: A value is trying to be set on a copy of a DataFrame or Series through chained assignment using an inplace method.\n",
      "The behavior will change in pandas 3.0. This inplace method will never work because the intermediate object on which we are setting values always behaves as a copy.\n",
      "\n",
      "For example, when doing 'df[col].method(value, inplace=True)', try using 'df.method({col: value}, inplace=True)' or df[col] = df[col].method(value) instead, to perform the operation inplace on the original object.\n",
      "\n",
      "\n",
      "  health_data['OxygenSaturation'].fillna(median_oxygen_saturation, inplace=True)\n"
     ]
    }
   ],
   "source": [
    "# Fill missing values\n",
    "health_data['BodyTemperature'].fillna(median_body_temperature, inplace=True)\n",
    "health_data['OxygenSaturation'].fillna(median_oxygen_saturation, inplace=True)"
   ]
  },
  {
   "cell_type": "code",
   "execution_count": null,
   "metadata": {},
   "outputs": [],
   "source": []
  }
 ],
 "metadata": {
  "kernelspec": {
   "display_name": "Python 3",
   "language": "python",
   "name": "python3"
  },
  "language_info": {
   "codemirror_mode": {
    "name": "ipython",
    "version": 3
   },
   "file_extension": ".py",
   "mimetype": "text/x-python",
   "name": "python",
   "nbconvert_exporter": "python",
   "pygments_lexer": "ipython3",
   "version": "3.12.3"
  }
 },
 "nbformat": 4,
 "nbformat_minor": 2
}
